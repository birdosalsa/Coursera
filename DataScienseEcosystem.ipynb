{
 "cells": [
  {
   "cell_type": "markdown",
   "id": "3c49ee81",
   "metadata": {},
   "source": [
    "# Data Science Tools and Ecosystem"
   ]
  },
  {
   "cell_type": "markdown",
   "id": "25dfec6f",
   "metadata": {},
   "source": [
    "In this notebook, Data Science Tools and Ecosystem are summarized."
   ]
  },
  {
   "cell_type": "markdown",
   "id": "fd41d74e",
   "metadata": {},
   "source": [
    "Objectives:\n",
    "- Learn some Data Science Languages\n",
    "- Learn some Data Science Libraries\n",
    "- Learn some Data Science Tools"
   ]
  },
  {
   "cell_type": "markdown",
   "id": "d6b246cf",
   "metadata": {},
   "source": [
    "Some of the popular languages that Data Scientist use are:\n",
    "1. Python\n",
    "1. SQL\n",
    "1. R"
   ]
  },
  {
   "cell_type": "markdown",
   "id": "3f141e65",
   "metadata": {},
   "source": [
    "Some of the commonly used libraries used by Data Scientists include:\n",
    "1. Pandas\n",
    "1. Plotly\n",
    "1. Seaborn"
   ]
  },
  {
   "cell_type": "markdown",
   "id": "28cc34eb",
   "metadata": {},
   "source": [
    "| Data Science Tools |\n",
    "|:------------------|\n",
    "| Jupyter Notebook  |\n",
    "| R-Studio          |\n",
    "| Spyder            |\n"
   ]
  },
  {
   "cell_type": "markdown",
   "id": "9cce377b",
   "metadata": {},
   "source": [
    "### Below are a few examples of evaluating arithmetic expressions in Python"
   ]
  },
  {
   "cell_type": "code",
   "execution_count": 3,
   "id": "edba6566",
   "metadata": {},
   "outputs": [
    {
     "data": {
      "text/plain": [
       "17"
      ]
     },
     "execution_count": 3,
     "metadata": {},
     "output_type": "execute_result"
    }
   ],
   "source": [
    "# This a simple arithmetic expression to mutiply then add integers\n",
    "(3*4)+5"
   ]
  },
  {
   "cell_type": "code",
   "execution_count": 4,
   "id": "3994eae4",
   "metadata": {},
   "outputs": [
    {
     "data": {
      "text/plain": [
       "3.3333333333333335"
      ]
     },
     "execution_count": 4,
     "metadata": {},
     "output_type": "execute_result"
    }
   ],
   "source": [
    "# This will convert 200 minutes to hours by dividing by 60\n",
    "def minute_to_hour_conversion(m):\n",
    "    hours = m/60\n",
    "    return hours\n",
    "minute_to_hour_conversion(200)"
   ]
  },
  {
   "cell_type": "markdown",
   "id": "f08a8383",
   "metadata": {},
   "source": [
    "## Author\n",
    "Alex "
   ]
  },
  {
   "cell_type": "code",
   "execution_count": null,
   "id": "dd1e9ca7",
   "metadata": {},
   "outputs": [],
   "source": []
  }
 ],
 "metadata": {
  "kernelspec": {
   "display_name": "Python 3 (ipykernel)",
   "language": "python",
   "name": "python3"
  },
  "language_info": {
   "codemirror_mode": {
    "name": "ipython",
    "version": 3
   },
   "file_extension": ".py",
   "mimetype": "text/x-python",
   "name": "python",
   "nbconvert_exporter": "python",
   "pygments_lexer": "ipython3",
   "version": "3.11.5"
  }
 },
 "nbformat": 4,
 "nbformat_minor": 5
}
